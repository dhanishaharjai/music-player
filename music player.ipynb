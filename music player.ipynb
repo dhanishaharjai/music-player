{
 "cells": [
  {
   "cell_type": "code",
   "execution_count": 1,
   "metadata": {},
   "outputs": [
    {
     "name": "stdout",
     "output_type": "stream",
     "text": [
      "pygame 2.0.1 (SDL 2.0.14, Python 3.8.5)\n",
      "Hello from the pygame community. https://www.pygame.org/contribute.html\n"
     ]
    }
   ],
   "source": [
    "from tkinter import *\n",
    "import pygame\n",
    "import os\n",
    "\n",
    "class MusicPlayer(Frame):\n",
    "    def __init__(self,root):\n",
    "        self.root=root\n",
    "        self.root.title(\"MusicPlayer\")\n",
    "        self.root.geometry(\"1000x200\")\n",
    "        pygame.init()\n",
    "        pygame.mixer.init()\n",
    "        self.track = StringVar()\n",
    "        self.status = StringVar()\n",
    "        \n",
    "        # Creating the Track Frames for Song label & status label\n",
    "        trackframe = LabelFrame(self.root,text=\"Song Track\",font=(\"helvetica\",15,\"bold\"),bg=\"Grey\", fg=\"white\",bd=5,relief=GROOVE)\n",
    "        trackframe.place(x=0,y=0,width=600,height=100)\n",
    "        # Inserting Song Track Label\n",
    "        songtrack = Label(trackframe,textvariable=self.track,width=20,font=(\"helvetica\",24,\"bold\"),bg=\"navyblue\",fg=\"lightblue\").grid(row=0,column=0,padx=10,pady=5)\n",
    "        # Inserting Status Label\n",
    "        trackstatus = Label(trackframe,textvariable=self.status,font=(\"helvetica\",24,\"bold\"),bg=\"lightblue\",fg=\"white\").grid(row=0,column=0,padx=10,pady=5)\n",
    "        \n",
    "        buttonframe = LabelFrame(self.root,text=\"Control Panel\",font=(\"helvetica\",15,\"bold\"),bg=\"yellow\",fg=\"white\",bd=5,relief=GROOVE)\n",
    "        buttonframe.place(x=0,y=100,width=600,height=100)\n",
    "        \n",
    "        playbtn = Button(buttonframe,text=\"PLAYSONG\",command=self.playsong,width=10,height=2,font=(\"helvetica\",16,\"bold\"),fg=\"navyblue\",bg=\"pink\").grid(row=0,column=0,padx=10,pady=5)\n",
    "        playbtn = Button(buttonframe,text=\"PAUSE\",command=self.pausesong,width=8,height=2,font=(\"helvetica\",16,\"bold\"),fg=\"navyblue\",bg=\"pink\").grid(row=0,column=1,padx=10,pady=5)\n",
    "        playbtn = Button(buttonframe,text=\"UNPAUSE\",command=self.unpausesong,width=10,height=2,font=(\"helvetica\",16,\"bold\"),fg=\"navyblue\",bg=\"pink\").grid(row=0,column=2,padx=10,pady=5)\n",
    "        playbtn = Button(buttonframe,text=\"STOPSONG\",command=self.stopsong,width=10,height=2,font=(\"helvetica\",16,\"bold\"),fg=\"navyblue\",bg=\"pink\").grid(row=0,column=3,padx=10,pady=5)\n",
    "\n",
    "        \n",
    "        songsframe = LabelFrame(self.root,text=\"Song Playlist\",font=(\"helvetica\",15,\"bold\"),bg=\"lightgreen\",fg=\"red\",bd=5,relief=GROOVE)\n",
    "        songsframe.place(x=600,y=0,width=400,height=200)\n",
    "        \n",
    "        scrol_y = Scrollbar(songsframe,orient=VERTICAL)\n",
    "        \n",
    "        self.playlist = Listbox(songsframe,yscrollcommand=scrol_y.set,selectbackground=\"gold\",selectmode=SINGLE,font=(\"helvetica\",14,\"bold\"),bg=\"orange\",fg=\"white\",bd=5,relief=GROOVE)\n",
    "        \n",
    "        scrol_y.pack(side=RIGHT,fill=Y)\n",
    "        scrol_y.config(command=self.playlist.yview)\n",
    "        self.playlist.pack(fill=BOTH)\n",
    "        # Changing Directory for fetching Songs\n",
    "        os.chdir(\"desktop/songs\")\n",
    "        # Fetching Songs\n",
    "        songtracks = os.listdir()\n",
    "        # Inserting Songs into Playlist\n",
    "        for track in songtracks:\n",
    "            self.playlist.insert(END,track)\n",
    "        \n",
    "    def playsong(self):\n",
    "        \n",
    "        self.track.set(self.playlist.get(ACTIVE))\n",
    "        self.status.set(\"-Playing\")\n",
    "        pygame.mixer.music.load(self.playlist.get(ACTIVE))\n",
    "        pygame.mixer.music.play()\n",
    "        \n",
    "    def stopsong(self):\n",
    "        self.status.set(\"-Stopped\")\n",
    "        pygame.mixer.music.stop()\n",
    "\n",
    "    \n",
    "    def pausesong(self):\n",
    "        \n",
    "        self.status.set(\"-Paused\")\n",
    "        pygame.mixer.music.pause()\n",
    "    \n",
    "    def unpausesong(self):\n",
    "        \n",
    "        self.status.set(\"-Playing\")\n",
    "        pygame.mixer.music.unpause()\n",
    "        \n",
    "root=Tk()\n",
    "MusicPlayer(root)\n",
    "root.mainloop()       \n",
    "        \n",
    "    \n",
    "    "
   ]
  },
  {
   "cell_type": "code",
   "execution_count": null,
   "metadata": {},
   "outputs": [],
   "source": []
  },
  {
   "cell_type": "code",
   "execution_count": null,
   "metadata": {},
   "outputs": [],
   "source": []
  },
  {
   "cell_type": "code",
   "execution_count": null,
   "metadata": {},
   "outputs": [],
   "source": []
  }
 ],
 "metadata": {
  "kernelspec": {
   "display_name": "Python 3",
   "language": "python",
   "name": "python3"
  },
  "language_info": {
   "codemirror_mode": {
    "name": "ipython",
    "version": 3
   },
   "file_extension": ".py",
   "mimetype": "text/x-python",
   "name": "python",
   "nbconvert_exporter": "python",
   "pygments_lexer": "ipython3",
   "version": "3.8.5"
  }
 },
 "nbformat": 4,
 "nbformat_minor": 4
}
